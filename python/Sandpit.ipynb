{
 "cells": [
  {
   "cell_type": "code",
   "execution_count": 1,
   "metadata": {
  "collapsed": true
   },
   "outputs": [],
   "source": [
  "import pandas as pd"
   ]
  },
  {
   "cell_type": "code",
   "execution_count": 7,
   "metadata": {},
   "outputs": [
  {
   "data": {
    "text/plain": [
     "DatetimeIndex(['2017-09-30', '2017-10-31', '2017-11-30', '2017-12-31',\n",
     "         '2018-01-31', '2018-02-28', '2018-03-31'],\n",
     "        dtype='datetime64[ns]', freq='M')"
    ]
   },
   "execution_count": 7,
   "metadata": {},
   "output_type": "execute_result"
  }
   ],
   "source": [
  "pd.date_range(\"2017-9-05\", freq=\"M\", periods=7)"
   ]
  },
  {
   "cell_type": "code",
   "execution_count": null,
   "metadata": {
  "collapsed": true
   },
   "outputs": [],
   "source": []
  }
 ],
 "metadata": {
  "kernelspec": {
   "display_name": "Python 3.6",
   "language": "python",
   "name": "python3"
  },
  "language_info": {
   "codemirror_mode": {
  "name": "ipython",
  "version": 3
   },
   "file_extension": ".py",
   "mimetype": "text/x-python",
   "name": "python",
   "nbconvert_exporter": "python",
   "pygments_lexer": "ipython3",
   "version": "3.6.1"
  }
 },
 "nbformat": 4,
 "nbformat_minor": 2
}
